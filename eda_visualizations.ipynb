{
 "cells": [
  {
   "cell_type": "markdown",
   "id": "c3e25783",
   "metadata": {},
   "source": [
    "# EDA & Visualizations\n",
    "Loads processed.csv and renders charts."
   ]
  },
  {
   "cell_type": "code",
   "execution_count": null,
   "id": "47d0829e",
   "metadata": {},
   "outputs": [],
   "source": [
    "\n",
    "import pandas as pd\n",
    "import matplotlib.pyplot as plt\n",
    "from pathlib import Path\n",
    "\n",
    "PATH = Path(\"../data/processed/processed.csv\")\n",
    "df = pd.read_csv(PATH)\n",
    "print(\"Rows, Cols:\", df.shape)\n",
    "\n",
    "if \"crop\" in df.columns and \"production\" in df.columns:\n",
    "    top = df.groupby(\"crop\")[\"production\"].sum().sort_values(ascending=False).head(10)\n",
    "    ax = top.plot(kind=\"bar\", title=\"Top 10 Crops by Total Production\")\n",
    "    plt.show()\n",
    "\n",
    "if \"state\" in df.columns and \"production\" in df.columns:\n",
    "    top_states = df.groupby(\"state\")[\"production\"].sum().sort_values(ascending=False).head(10)\n",
    "    ax = top_states.plot(kind=\"bar\", title=\"Top 10 States by Production\")\n",
    "    plt.show()\n",
    "\n",
    "if \"season\" in df.columns and \"production\" in df.columns:\n",
    "    seasonal = df.groupby(\"season\")[\"production\"].sum().sort_values(ascending=False)\n",
    "    ax = seasonal.plot(kind=\"bar\", title=\"Production by Season\")\n",
    "    plt.show()\n"
   ]
  }
 ],
 "metadata": {},
 "nbformat": 4,
 "nbformat_minor": 5
}
