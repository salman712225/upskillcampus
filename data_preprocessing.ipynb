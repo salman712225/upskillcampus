{
 "cells": [
  {
   "cell_type": "markdown",
   "id": "77b1ba42",
   "metadata": {},
   "source": [
    "# Data Preprocessing\n",
    "This notebook loads the raw dataset, performs cleaning, and saves a processed CSV."
   ]
  },
  {
   "cell_type": "code",
   "execution_count": null,
   "id": "388677d8",
   "metadata": {},
   "outputs": [],
   "source": [
    "\n",
    "import pandas as pd\n",
    "import numpy as np\n",
    "from pathlib import Path\n",
    "\n",
    "RAW_PATH = Path(\"../data/agri_production.csv\")  # place your raw CSV here\n",
    "OUT_DIR = Path(\"../data/processed\")\n",
    "OUT_DIR.mkdir(parents=True, exist_ok=True)\n",
    "OUT_PATH = OUT_DIR / \"processed.csv\"\n",
    "\n",
    "df = pd.read_csv(RAW_PATH)\n",
    "print(\"Rows, Cols:\", df.shape)\n",
    "print(\"Columns:\", df.columns.tolist())\n",
    "\n",
    "for c in df.select_dtypes(include=[\"object\"]).columns:\n",
    "    df[c] = df[c].astype(str).str.strip()\n",
    "\n",
    "rename_map = {\n",
    "    \"State_Name\":\"state\", \"Crop\":\"crop\", \"Season\":\"season\",\n",
    "    \"Area\":\"area\", \"Production\":\"production\", \"Cost\":\"cost\",\n",
    "    \"Year\":\"year\"\n",
    "}\n",
    "df = df.rename(columns={k:v for k,v in rename_map.items() if k in df.columns})\n",
    "\n",
    "if \"production\" in df.columns:\n",
    "    df[\"production\"] = pd.to_numeric(df[\"production\"], errors=\"coerce\")\n",
    "if \"area\" in df.columns:\n",
    "    df[\"area\"] = pd.to_numeric(df[\"area\"], errors=\"coerce\")\n",
    "\n",
    "df = df.dropna(how=\"all\")\n",
    "\n",
    "for c in df.columns:\n",
    "    if pd.api.types.is_numeric_dtype(df[c]):\n",
    "        df[c] = df[c].fillna(df[c].median())\n",
    "    else:\n",
    "        df[c] = df[c].fillna(\"Unknown\")\n",
    "\n",
    "if {\"production\",\"area\"}.issubset(df.columns):\n",
    "    df[\"prod_per_hectare\"] = np.where(df[\"area\"]>0, df[\"production\"]/df[\"area\"], 0.0)\n",
    "\n",
    "df.to_csv(OUT_PATH, index=False)\n",
    "print(\"Saved processed CSV to\", OUT_PATH)\n"
   ]
  }
 ],
 "metadata": {},
 "nbformat": 4,
 "nbformat_minor": 5
}
